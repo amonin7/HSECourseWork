{
 "cells": [
  {
   "cell_type": "code",
   "execution_count": 1,
   "metadata": {},
   "outputs": [
    {
     "name": "stdout",
     "output_type": "stream",
     "text": [
      "Requirement already satisfied: progress in /Library/Frameworks/Python.framework/Versions/3.6/lib/python3.6/site-packages (1.5)\n",
      "\u001b[33mWARNING: You are using pip version 20.1; however, version 21.1.1 is available.\n",
      "You should consider upgrading via the '/Library/Frameworks/Python.framework/Versions/3.6/bin/python3.6 -m pip install --upgrade pip' command.\u001b[0m\n"
     ]
    }
   ],
   "source": [
    "# !pip install progress"
   ]
  },
  {
   "cell_type": "code",
   "execution_count": 43,
   "metadata": {},
   "outputs": [],
   "source": [
    "import pandas as pd\n",
    "import matplotlib.pyplot as plt\n",
    "import numpy as np\n",
    "import math\n",
    "from Engine import Engine\n",
    "from tqdm import tqdm\n",
    "from progress.bar import IncrementalBar"
   ]
  },
  {
   "cell_type": "code",
   "execution_count": 44,
   "metadata": {},
   "outputs": [],
   "source": [
    "def plot(trace_file: str, comm_file: str):\n",
    "    df = pd.read_csv(trace_file, index_col=0)\n",
    "\n",
    "    time = pd.read_csv(comm_file, index_col=0)\n",
    "    time = time.fillna('')\n",
    "\n",
    "    processes = len(df.columns) // 3\n",
    "    fig, ax = plt.subplots(figsize=(15,8))\n",
    "\n",
    "    max_time = 0\n",
    "    status = {}\n",
    "    isLegendSet = False\n",
    "    for j in range(processes):\n",
    "        x = list(df['timestamp' + str(j)].fillna(-1))[1:]\n",
    "        y = list(df['state' + str(j)].fillna(-1))[1:]\n",
    "        res = []\n",
    "        for i, el in enumerate(x):\n",
    "            if el == -1:\n",
    "                continue\n",
    "            el = list(map(float, el.split('-')))\n",
    "            if el[1] > max_time:\n",
    "                max_time = el[1]\n",
    "            if y[i] == 'Await for receive':\n",
    "                el.append('red')\n",
    "            elif y[i] == 'Balance':\n",
    "                el.append('blue')\n",
    "            elif y[i] == 'Receive':\n",
    "                el.append('brown')\n",
    "            elif y[i] == 'Send':\n",
    "                el.append('orange')\n",
    "            elif y[i] == 'Solve':\n",
    "                el.append('green')\n",
    "            else:\n",
    "                el.append('black')\n",
    "            status[el[-1]] = False\n",
    "            el.append(y[i])\n",
    "            res.append(el)\n",
    "        for el in res:\n",
    "            if not status[el[2]] and not isLegendSet:\n",
    "                status[el[2]] = True\n",
    "                ax.plot(el[:-2], [j, j], color=el[2], linewidth=4.0, label=el[3])\n",
    "            else:\n",
    "                ax.plot(el[:-2], [j, j], color=el[2], linewidth=4.0)   \n",
    "        isLegendSet = True\n",
    "    scale = processes / max_time\n",
    "    head_width = 2\n",
    "    length = head_width * scale\n",
    "    ax.legend()\n",
    "    for col in time.columns:\n",
    "        sndr, rcvr = map(int, col[1:-1].split(', '))\n",
    "        for interval in time[col]:\n",
    "            if interval != '':\n",
    "                start, end = map(float, interval.split(':'))\n",
    "                y = abs(rcvr-sndr)\n",
    "                x = end-start\n",
    "                gip = math.sqrt(y ** 2 + x ** 2)\n",
    "                sin = y / gip\n",
    "                width = (0.5 / 2 - 0.025 / 2) * sin + 0.025 / 2\n",
    "                cos = x / gip\n",
    "                lenth = (0.5 - 0.025) * cos + 0.025\n",
    "\n",
    "                ax.arrow(start, sndr, end-start, rcvr-sndr, length_includes_head=True, width=width, head_length=lenth)\n",
    "    plt.xlabel('model time')\n",
    "    plt.ylabel('process id')\n",
    "    plt.show()"
   ]
  },
  {
   "cell_type": "code",
   "execution_count": 45,
   "metadata": {},
   "outputs": [
    {
     "data": {
      "image/png": "[encoded data removed]",
      "text/plain": [
       "<Figure size 1080x576 with 1 Axes>"
      ]
     },
     "metadata": {
      "needs_background": "light"
     },
     "output_type": "display_data"
    }
   ],
   "source": [
    "eng = Engine(proc_amount=3, max_depth=7)\n",
    "eng.run()\n",
    "\n",
    "plot('Trace.csv', 'Communication.csv')"
   ]
  },
  {
   "cell_type": "code",
   "execution_count": 46,
   "metadata": {},
   "outputs": [],
   "source": [
    "def count(trace_file: str, comm_file: str):\n",
    "    df = pd.read_csv(trace_file, index_col=0)\n",
    "\n",
    "    time = pd.read_csv(comm_file, index_col=0)\n",
    "    time = time.fillna('')\n",
    "\n",
    "    processes = len(df.columns) // 3\n",
    "\n",
    "    max_time = 0\n",
    "    Tseq = 0\n",
    "    for j in range(processes):\n",
    "        x = list(df['timestamp' + str(j)].fillna(-1))[1:]\n",
    "        y = list(df['state' + str(j)].fillna(-1))[1:]\n",
    "        res = []\n",
    "        for i, el in enumerate(x):\n",
    "            if el == -1:\n",
    "                continue\n",
    "            el = list(map(float, el.split('-')))\n",
    "            if el[1] > max_time:\n",
    "                max_time = el[1]\n",
    "            if y[i] == 'Solve':\n",
    "                Tseq += el[1] - el[0]\n",
    "            el.append(y[i])\n",
    "            res.append(el)\n",
    "\n",
    "    acceleration = Tseq / max_time\n",
    "    efficiency = acceleration / processes\n",
    "    return acceleration, efficiency"
   ]
  },
  {
   "cell_type": "code",
   "execution_count": 47,
   "metadata": {},
   "outputs": [
    {
     "data": {
      "text/plain": [
       "(1.2577903682719547, 0.4192634560906516)"
      ]
     },
     "execution_count": 47,
     "metadata": {},
     "output_type": "execute_result"
    }
   ],
   "source": [
    "# for i in range(10):\n",
    "# count('Trace.csv', 'Communication.csv')+count('Trace.csv', 'Communication.csv')\n",
    "count('Trace.csv', 'Communication.csv')"
   ]
  },
  {
   "cell_type": "code",
   "execution_count": 48,
   "metadata": {},
   "outputs": [],
   "source": [
    "eng = Engine(proc_amount=5, max_depth=18)\n",
    "eng.run()\n"
   ]
  },
  {
   "cell_type": "code",
   "execution_count": null,
   "metadata": {},
   "outputs": [],
   "source": []
  },
  {
   "cell_type": "code",
   "execution_count": 49,
   "metadata": {},
   "outputs": [
    {
     "name": "stderr",
     "output_type": "stream",
     "text": [
      "100%|██████████| 1000/1000 [33:20<00:00,  2.00s/it]   "
     ]
    },
    {
     "name": "stdout",
     "output_type": "stream",
     "text": [
      "Acceleration: 5.5627681003175296\n",
      "Efficiency: 0.5562768100317518\n"
     ]
    },
    {
     "name": "stderr",
     "output_type": "stream",
     "text": [
      "\n"
     ]
    }
   ],
   "source": [
    "am = 1000\n",
    "suma = (0, 0)\n",
    "for i in tqdm(range(am)):\n",
    "    try:\n",
    "        eng = Engine(proc_amount=10, max_depth=40)\n",
    "        eng.run()\n",
    "    except Exception:\n",
    "#         print('n')\n",
    "        continue\n",
    "    cur = count('Trace.csv', 'Communication.csv')\n",
    "    suma = tuple(map(sum, zip(suma, cur)))\n",
    "# suma\n",
    "acc_average = suma[0] / am\n",
    "eff_average = suma[1] / am\n",
    "\n",
    "print(f'Acceleration: {acc_average}\\nEfficiency: {eff_average}')"
   ]
  },
  {
   "cell_type": "code",
   "execution_count": null,
   "metadata": {},
   "outputs": [],
   "source": []
  }
 ],
 "metadata": {
  "kernelspec": {
   "display_name": "Python 3",
   "language": "python",
   "name": "python3"
  },
  "language_info": {
   "codemirror_mode": {
    "name": "ipython",
    "version": 3
   },
   "file_extension": ".py",
   "mimetype": "text/x-python",
   "name": "python",
   "nbconvert_exporter": "python",
   "pygments_lexer": "ipython3",
   "version": "3.6.8"
  }
 },
 "nbformat": 4,
 "nbformat_minor": 2
}
